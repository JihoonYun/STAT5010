{
  "cells": [
    {
      "cell_type": "markdown",
      "metadata": {
        "id": "view-in-github",
        "colab_type": "text"
      },
      "source": [
        "<a href=\"https://colab.research.google.com/github/JihoonYun/STAT5010/blob/main/Homework2_Jihoon_yun.ipynb\" target=\"_parent\"><img src=\"https://colab.research.google.com/assets/colab-badge.svg\" alt=\"Open In Colab\"/></a>"
      ]
    },
    {
      "cell_type": "markdown",
      "id": "d539ed0b-a1e5-4d3b-bcf4-41c550f7c2e6",
      "metadata": {
        "id": "d539ed0b-a1e5-4d3b-bcf4-41c550f7c2e6"
      },
      "source": [
        "# Homework 2: Hypothesis Testing and Simple Linear Regression\n",
        "***\n",
        "\n",
        "**Name**:\n",
        "\n",
        "***\n",
        "\n",
        "This assignment is due on Gradescope by **Friday February 16 at 5:59PM**. If you submit the assignment  by this deadline, you will receive 5 bonus points. If you need a little extra time, you may submit your work by **Monday February 19 at 5:59PM**. Your solutions to theoretical questions should be done in Markdown directly below the associated question.  Your solutions to computational questions should include any specified R code and results as well as written commentary on your conclusions.  Remember that you are encouraged to discuss the problems with your classmates, but **you must write all code and solutions on your own**.\n",
        "\n",
        "**NOTES**:\n",
        "\n",
        "- There are 2 total questions on this assignment.\n",
        "- If you're not familiar with typesetting math directly into Markdown then by all means, do your work on paper first and then typeset it later.  Remember that there is a [reference guide](https://math.meta.stackexchange.com/questions/5020/mathjax-basic-tutorial-and-quick-reference) linked here. **All** of your written commentary, justifications and mathematical work should be in Markdown.\n",
        "- Because you can technically evaluate notebook cells in a non-linear order, it's a good idea to do Kernel $\\rightarrow$ Restart & Run All as a check before submitting your solutions.  That way if we need to run your code you will know that it will work as expected.\n",
        "- It is **bad form** to make your reader interpret numerical output from your code.  If a question asks you to compute some value from the data you should show your code output **AND** write a summary of the results in Markdown directly below your code.\n",
        "- This probably goes without saying, but... For any question that asks you to calculate something, you **must show all work and justify your answers to receive credit**. Sparse or nonexistent work will receive sparse or nonexistent credit.\n",
        "\n",
        "\n",
        "\n",
        "---"
      ]
    },
    {
      "cell_type": "markdown",
      "id": "70cc9603-296c-4bb6-b0d9-2017008f0a07",
      "metadata": {
        "id": "70cc9603-296c-4bb6-b0d9-2017008f0a07"
      },
      "source": [
        "---\n",
        "\n",
        "\n",
        "### Problem 1 - Hypothesis Testing with Randomization (25 points)\n",
        "\n",
        "For this problem, we will be performing a hypothesis test with randomization.\n",
        "\n",
        "The Stanford University Heart Transplant Study was conducted to determine whether an experimental heart transplant program increased lifespan. Each patient entering the program was designated an official heart transplant candidate, meaning that they were gravely ill and would most likely benefit from a new heart. Some patients got a transplant and some did not. The variable `transplant` indicates which group the patients were in; patients in the treatment group got a transplant and those in the control group did not. Of the 34 patients in the control group, 30 died. Of the 69 people in the treatment group, 45 died. Another variable called `survived` was used to indicate whether or not the patient was alive at the end of the study.\n",
        "\n",
        "![bargraph-problem1.png](attachment:e4098c96-8378-4796-b326-e79f9a32fcf5.png)\n",
        "[link text](https://piazza.com/redirect/s3?bucket=uploads&prefix=paste%2Fjkck4qju4il6et%2F960d182b329a0e70d68b38a1bef0d14dbd4b8627a951a014deccc258ce903327%2FScreenshot_2024-02-11_at_8.33.02_AM.png)"
      ]
    },
    {
      "cell_type": "markdown",
      "id": "408774a1-7d18-4718-bb1e-a98d7c725fc4",
      "metadata": {
        "id": "408774a1-7d18-4718-bb1e-a98d7c725fc4"
      },
      "source": [
        "**Part A**: Does the stacked bar plot indicate that survival is independent of whether or not the patient got a transplant? Explain your reasoning?"
      ]
    },
    {
      "cell_type": "markdown",
      "id": "946c9b2a-1777-4c1a-9d2b-e88b5bf66c22",
      "metadata": {
        "id": "946c9b2a-1777-4c1a-9d2b-e88b5bf66c22"
      },
      "source": [
        "The difference in survival rates between the **Control** and **Treatment** groups in the stacked bar plot suggests a potential association between survival and transplant status. However, even if there is an approximate **23%** difference in survival rates between the two groups, **it is difficult to conclusively determine the relationship between transplant status and survival.** It is necessary to conduct additional statistical tests to determine whether the observed difference is due to chance or if it genuinely reflects a relationship between transplant status and survival."
      ]
    },
    {
      "cell_type": "markdown",
      "id": "6efcd639-5bba-4c1b-997d-1f6463c631da",
      "metadata": {
        "id": "6efcd639-5bba-4c1b-997d-1f6463c631da"
      },
      "source": [
        "**Part B:** What do the box plots above suggest about the efficacy (effectiveness) of the heart transplant treatment?"
      ]
    },
    {
      "cell_type": "markdown",
      "id": "56ee096c-5e04-411c-ab27-c9469303c8b9",
      "metadata": {
        "id": "56ee096c-5e04-411c-ab27-c9469303c8b9"
      },
      "source": [
        "The box plots indicate that **the survival time in the Treatment group is considerably higher than that in the Control group**. Particularly, the upper quartiles and maximum values in the Treatment group's box plot are much larger than those in the Control group's. This suggests strong evidence that **heart transplant treatment can significantly improve survival time**."
      ]
    },
    {
      "cell_type": "markdown",
      "id": "87c615e9-c5d2-48e2-80df-d6b0110eecfd",
      "metadata": {
        "id": "87c615e9-c5d2-48e2-80df-d6b0110eecfd"
      },
      "source": [
        "**Part C:** What proportion of patients in the treatment group and what proportion of patients in the control group died?"
      ]
    },
    {
      "cell_type": "markdown",
      "id": "a6869ec2-ecbf-49e9-b32c-d9977faeda75",
      "metadata": {
        "id": "a6869ec2-ecbf-49e9-b32c-d9977faeda75"
      },
      "source": [
        "To calculate the proportion of patients who died in each group, we divide the number of deaths by the total number of patients in each group and multiply by 100 to express it as a percentage.\n",
        "\n",
        "**For the control group:**  \n",
        "*   *Number of deaths* = 30\n",
        "*   *Total number of patients* = 34\n",
        "*   *Proportion of patients who died in the control group* =\n",
        "$\\frac{30}{34} × 100 ≈ 88.2\\%$\n",
        "  \n",
        "\n",
        "**For the treatment group:**  \n",
        "*   *Number of deaths* = 45\n",
        "*   *Total number of patients* = 69\n",
        "*   *Proportion of patients who died in the treatment group* =\n",
        "$\\frac{45}{69} × 100 ≈ 65.2\\%$  \n",
        "\n",
        "So, approximately **88.2%** of **patients in the control group died**, while approximately **65.2%** of **patients in the treatment group died**."
      ]
    },
    {
      "cell_type": "markdown",
      "id": "8c715d0d-2226-4ddb-b62d-fa062f072c82",
      "metadata": {
        "id": "8c715d0d-2226-4ddb-b62d-fa062f072c82"
      },
      "source": [
        "**Part D:** Now we will perform a hypothesis test using randomization. State the null and alternative hypotheses for the test."
      ]
    },
    {
      "cell_type": "markdown",
      "id": "2f71bcc9-14a8-4053-b3da-af2f3ea35aab",
      "metadata": {
        "id": "2f71bcc9-14a8-4053-b3da-af2f3ea35aab"
      },
      "source": [
        "The null hypothesis (H0) typically starts with a basic assumption in an experiment. This assumes that there is no difference between the two groups, so in this case, the null hypothesis is that the survival rate is the same between patients who received a transplant and those who did not. The alternative hypothesis (H1) is the hypothesis that disproves the null hypothesis, which in this case is that the survival rate is different between patients who received a transplant and those who did not. Therefore, the null and alternative hypotheses can be formulated as follows:  \n",
        "  \n",
        "*  **Null hypothesis (H0)**: The survival rate is the same between patients who received a transplant and those who did not.  \n",
        "*  **Alternative hypothesis (H1)**: The survival rate is different between patients who received a transplant and those who did not receive a transplant."
      ]
    },
    {
      "cell_type": "markdown",
      "id": "b10a5fb3-fab4-4f13-8596-6d021b5dbc3d",
      "metadata": {
        "id": "b10a5fb3-fab4-4f13-8596-6d021b5dbc3d"
      },
      "source": [
        "**Part E:** Run 1000 simulations for a randomization test and compile the results in a histogram. Display your histogram below. Please see pages 215-216 in \"Introduction to Modern Statistics\" as a reference for this. Note that this problem is taken directly from the textbook. We are trying to see if we can replicate the results. Due to random sampling, it is expected that your histograms should be slightly different from the textbook and from each other.\n",
        "\n",
        "Note, you will need to create synthetic data. There were $34+69 = 103$ Total people in this study. You will need to create a process for labeling the data points as \"survivor\" or \"non-survivor\" and making random draws from this labeled data. Hint: You could make a list or a csv file with this data and then sample it randomly. Or you could compute the rate of survivors vs non-survivors within these 103 data values and simulate the data using the survival rate as a probability distribution. Or you could come up with your own process. The first way I described it a bit closer to the classic set up we have been discussing in class. But I think the second way is a reasonable approximation. Either is fine for the sake of this homework assignment."
      ]
    },
    {
      "cell_type": "code",
      "execution_count": null,
      "id": "e6d2a348-bb4e-4a83-9ceb-135400b5d3e2",
      "metadata": {
        "colab": {
          "base_uri": "https://localhost:8080/",
          "height": 437
        },
        "id": "e6d2a348-bb4e-4a83-9ceb-135400b5d3e2",
        "outputId": "1501982b-1e00-4512-fe5c-7089bc3f7297"
      },
      "outputs": [
        {
          "output_type": "display_data",
          "data": {
            "text/plain": [
              "Plot with title “Histogram of results”"
            ],
            "image/png": "[encoded data removed]"
          },
          "metadata": {
            "image/png": {
              "width": 420,
              "height": 420
            }
          }
        }
      ],
      "source": [
        "alive_patients <- rep(\"survivor\", 28)\n",
        "dead_patients <- rep(\"non-survivor\", 75)\n",
        "\n",
        "all_patients <- c(alive_patients, dead_patients)\n",
        "num_simuls <- 1000\n",
        "results <- numeric(num_simuls)\n",
        "\n",
        "for (i in 1:num_simuls) {\n",
        "  shuffled_patients <- sample(all_patients)\n",
        "  treatment_group <- shuffled_patients[1:69]\n",
        "  control_group <- shuffled_patients[70:103]\n",
        "\n",
        "  treatment_dead_proportion <- sum(treatment_group == \"non-survivor\") / length(treatment_group)\n",
        "  control_dead_proportion <- sum(control_group == \"non-survivor\") / length(control_group)\n",
        "\n",
        "  observed_diff <- treatment_dead_proportion - control_dead_proportion\n",
        "\n",
        "  results[i] <- observed_diff\n",
        "}\n",
        "\n",
        "hist(results, xlab = \"Difference\", ylab = \"Frequency\")\n",
        "abline(v = 0.23, col = \"red\", lwd = 2)\n"
      ]
    },
    {
      "cell_type": "markdown",
      "source": [
        "We generate data for 103 patients labeled as \"survivor\" and \"non-survivor\". Out of these, 28 are labeled as \"survivor\" representing patients who survived, and 75 are labeled as \"non-survivor\" representing patients who did not survive.\n",
        "We perform 1000 simulations to compute the difference in survival rates between patients who received a transplant (treatment group) and those who did not (control group). In each simulation, we shuffle the labels of the patients randomly and divide them into two groups: one representing patients who received a transplant and the other representing patients who did not. We then calculate the proportion of patients who died in each group.\n",
        "We calculate the difference in the proportions of patients who died between the treatment group and the control group for each simulation and store these differences in a vector. Using the stored results, we draw a histogram representing the distribution of differences in survival rates. We also mark a vertical line representing the observed difference of approximately 0.23 between the control group and the treatment group."
      ],
      "metadata": {
        "id": "WcmLUXAQFJKY"
      },
      "id": "WcmLUXAQFJKY"
    },
    {
      "cell_type": "markdown",
      "id": "b42724df-14de-4958-9adf-28d6aee4706d",
      "metadata": {
        "id": "b42724df-14de-4958-9adf-28d6aee4706d"
      },
      "source": [
        "**Part F:** What is your conclusion and why? (In other words, will you reject your null hypothesis or fail to reject your null hypothesis?)"
      ]
    },
    {
      "cell_type": "markdown",
      "id": "15c0b044-2ca4-4efc-afe2-540737de145c",
      "metadata": {
        "id": "15c0b044-2ca4-4efc-afe2-540737de145c"
      },
      "source": [
        "The null hypothesis (H0) assumes that there is no difference in survival rates between patients who received a heart transplant and those who did not, while the alternative hypothesis (H1) suggests that there is a difference in survival rates between the two groups.\n",
        "\n",
        "According to the given information, the actual difference in survival rates between the group that received a heart transplant and the group that did not is 0.23, and the approximate height of the histogram bar representing this difference is around 30. This represents the distribution obtained from 1000 simulations. That is, it accounts for about 3% of the total samples since the height of the histogram bar is 30. This is smaller than the usual significance level (alpha) of 0.05. Therefore, the null hypothesis is rejected. When the null hypothesis is rejected, the alternative hypothesis is accepted. Thus, it can be concluded from the given data that there is a statistically significant difference in survival rates between the two groups."
      ]
    },
    {
      "cell_type": "markdown",
      "id": "f06739c1-13c4-4468-a7b6-535943ec3117",
      "metadata": {
        "id": "f06739c1-13c4-4468-a7b6-535943ec3117"
      },
      "source": [
        "---\n",
        "\n",
        "\n",
        "### Problem 2 - Simple Linear Regression (25 points)\n",
        "\n",
        "For this problem, we will be performing simple linear regression using the following dataset:\n",
        "`Fish.csv`\n",
        "\n",
        "Information about this data from the original source (kaggle): \"This dataset is a record of 7 common different fish species in fish market sales. With this dataset, a predictive model can be performed using machine friendly data and estimate the weight of fish can be predicted.\"\n",
        "\n",
        "**Response**:\n",
        "- Weight (in grams)\n",
        "\n",
        "**Features**:\n",
        "- Length1 (vertical length in cm)\n",
        "- Length2 (diagonal length in cm)\n",
        "- Length3 (cross length in cm)\n",
        "- Height (in cm)\n",
        "- Width (diagonal width in cm)\n",
        "\n",
        "The species name of the fish is also given."
      ]
    },
    {
      "cell_type": "markdown",
      "id": "7cf69846-a777-4198-b230-0706e0bf40f6",
      "metadata": {
        "id": "7cf69846-a777-4198-b230-0706e0bf40f6"
      },
      "source": [
        "**Part A**: Read the data from the csv into a DataFrame.  If you are reading in `Fish.csv`, I would recommend dropping the species column as it is non-numerical.\n",
        "\n",
        "Also, make sure to re-order the columns so that the response variable is the last column."
      ]
    },
    {
      "cell_type": "code",
      "execution_count": null,
      "id": "601f2839-d5dc-471d-b880-4c6d6b0c3ea7",
      "metadata": {
        "id": "601f2839-d5dc-471d-b880-4c6d6b0c3ea7"
      },
      "outputs": [],
      "source": []
    },
    {
      "cell_type": "markdown",
      "id": "a56575c4-98fe-408e-bc67-3678aa77f4bd",
      "metadata": {
        "id": "a56575c4-98fe-408e-bc67-3678aa77f4bd"
      },
      "source": [
        "**Part B:** Make separate scatter plots for each feature versus the response. From these plots, we will try and make inferences about which features appear to have a relationship with the response variable. Write a brief summary of what you notice in each plot. Do you notice any trends in the data?"
      ]
    },
    {
      "cell_type": "code",
      "execution_count": null,
      "id": "6da0aa14-da9f-4908-8544-10d551875081",
      "metadata": {
        "id": "6da0aa14-da9f-4908-8544-10d551875081"
      },
      "outputs": [],
      "source": []
    },
    {
      "cell_type": "markdown",
      "id": "8d5186b4-4945-4a01-9ce0-708d5427e76f",
      "metadata": {
        "id": "8d5186b4-4945-4a01-9ce0-708d5427e76f"
      },
      "source": [
        "**Part C:** Use your favorite method in R to fit simple linear regression models to the data. Fit a separate SLR model for each feature.\n",
        "\n",
        "\n",
        "Once you have fit each model, report the following information about each model:\n",
        "- intercept value\n",
        "- slope value\n",
        "- p-value"
      ]
    },
    {
      "cell_type": "code",
      "execution_count": null,
      "id": "494bb7df-285e-4963-aecf-0df33f60a797",
      "metadata": {
        "id": "494bb7df-285e-4963-aecf-0df33f60a797"
      },
      "outputs": [],
      "source": []
    },
    {
      "cell_type": "markdown",
      "id": "f79f83d8-872a-4e7c-a707-9339d0409aea",
      "metadata": {
        "id": "f79f83d8-872a-4e7c-a707-9339d0409aea"
      },
      "source": [
        "**Part D:** Use the SLR model from **Part C** for $\\texttt{Length3}$ versus $\\texttt{Weight}$ to estimate the weight of a fish whose measurement for $\\texttt{Length3}=31$ cm."
      ]
    },
    {
      "cell_type": "code",
      "execution_count": null,
      "id": "2b786de4-75b2-4bb9-ab91-ce2369833163",
      "metadata": {
        "id": "2b786de4-75b2-4bb9-ab91-ce2369833163"
      },
      "outputs": [],
      "source": []
    },
    {
      "cell_type": "markdown",
      "id": "0b08e1bc-bc85-46e0-93b8-5fb6f2f10f01",
      "metadata": {
        "id": "0b08e1bc-bc85-46e0-93b8-5fb6f2f10f01"
      },
      "source": [
        "**Part E:** Looking at all 5 SLR models from **Part C**, what do you notice about the p-values? What inferences could you make from this information."
      ]
    },
    {
      "cell_type": "code",
      "execution_count": null,
      "id": "65c64d2e-5f24-41a7-afdf-749816d6ddec",
      "metadata": {
        "id": "65c64d2e-5f24-41a7-afdf-749816d6ddec"
      },
      "outputs": [],
      "source": []
    },
    {
      "cell_type": "markdown",
      "id": "13e22585-fb42-4494-a3f9-cf208947e949",
      "metadata": {
        "id": "13e22585-fb42-4494-a3f9-cf208947e949"
      },
      "source": [
        "**Part F:(BONUS)** Not required. If you complete this portion, it is worth 3 bonus points towards your score on this assignment.\n",
        "\n",
        "Now, let's fit a multiiple linear regression model!\n",
        "\n",
        "Explicitly write out the MLR model using the coefficients that you found so that you have an answer of the form:\n",
        "$$ \\hat{y} = \\beta_0+\\beta_1 x_1 + \\beta_2 x_2 + \\beta_3 x_3 + \\beta_4 x_4 + \\beta_5 x_5 $$"
      ]
    },
    {
      "cell_type": "code",
      "execution_count": null,
      "id": "080a5fa7-e651-4c31-b6e5-0b3770ba7d0e",
      "metadata": {
        "id": "080a5fa7-e651-4c31-b6e5-0b3770ba7d0e"
      },
      "outputs": [],
      "source": []
    }
  ],
  "metadata": {
    "kernelspec": {
      "display_name": "R",
      "language": "R",
      "name": "ir"
    },
    "language_info": {
      "codemirror_mode": "r",
      "file_extension": ".r",
      "mimetype": "text/x-r-source",
      "name": "R",
      "pygments_lexer": "r",
      "version": "4.2.2"
    },
    "colab": {
      "provenance": [],
      "include_colab_link": true
    }
  },
  "nbformat": 4,
  "nbformat_minor": 5
}