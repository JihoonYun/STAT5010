{
  "cells": [
    {
      "cell_type": "markdown",
      "metadata": {
        "deletable": false,
        "editable": false,
        "nbgrader": {
          "cell_type": "markdown",
          "checksum": "919d30ed224108b9baf617540812564b",
          "grade": false,
          "grade_id": "cell-3b093e97d8c26055",
          "locked": true,
          "schema_version": 3,
          "solution": false,
          "task": false
        },
        "id": "0znAc4grvM1m"
      },
      "source": [
        "# Regression modeling in R - a first pass\n",
        "\n",
        "The following dataset contains observational measurements related to the impact of three advertising medias on sales of a product, $P$. The variables are:\n",
        "\n",
        "- `youtube`: the advertising budget allocated to YouTube. Measured in thousands of dollars;\n",
        "\n",
        "- `facebook`: the advertising budget allocated to Facebook. Measured in thousands of dollars; and\n",
        "\n",
        "- `newspaper`: the advertising budget allocated to a local newspaper. Measured in thousands of dollars.\n",
        "\n",
        "- `sales`: the value in the $i^{th}$ row of the sales column is a measurement of the sales (in thousands of units) for product $P$ for company $i$.\n",
        "\n",
        "The advertising data treat \"a company selling product $P$\" as the statistical unit, and \"all companies selling product $P$\" as the population. We assume that the $n = 200$ companies in the dataset were chosen at random from the population (a strong assumption!)."
      ]
    },
    {
      "cell_type": "code",
      "execution_count": null,
      "metadata": {
        "deletable": false,
        "editable": false,
        "nbgrader": {
          "cell_type": "code",
          "checksum": "696de99492f776e5c630139fc8ba2930",
          "grade": false,
          "grade_id": "cell-1a188009715d250c",
          "locked": true,
          "schema_version": 3,
          "solution": false,
          "task": false
        },
        "id": "fw_81YTnvM1w"
      },
      "outputs": [],
      "source": [
        "library(testthat)"
      ]
    },
    {
      "cell_type": "code",
      "execution_count": null,
      "metadata": {
        "deletable": false,
        "editable": false,
        "nbgrader": {
          "cell_type": "code",
          "checksum": "ab97305e6b7aa86480443daff129f228",
          "grade": false,
          "grade_id": "cell-6d9d7df468ea7a4b",
          "locked": true,
          "schema_version": 3,
          "solution": false,
          "task": false
        },
        "colab": {
          "base_uri": "https://localhost:8080/",
          "height": 286
        },
        "id": "qCdBbR5OvM1x",
        "outputId": "49f8b489-c1cc-448b-fabe-7f7be92519e9"
      },
      "outputs": [
        {
          "output_type": "display_data",
          "data": {
            "text/html": [
              "<table class=\"dataframe\">\n",
              "<caption>A data.frame: 6 × 4</caption>\n",
              "<thead>\n",
              "\t<tr><th></th><th scope=col>youtube</th><th scope=col>facebook</th><th scope=col>newspaper</th><th scope=col>sales</th></tr>\n",
              "\t<tr><th></th><th scope=col>&lt;dbl&gt;</th><th scope=col>&lt;dbl&gt;</th><th scope=col>&lt;dbl&gt;</th><th scope=col>&lt;dbl&gt;</th></tr>\n",
              "</thead>\n",
              "<tbody>\n",
              "\t<tr><th scope=row>1</th><td>276.12</td><td>45.36</td><td>83.04</td><td>26.52</td></tr>\n",
              "\t<tr><th scope=row>2</th><td> 53.40</td><td>47.16</td><td>54.12</td><td>12.48</td></tr>\n",
              "\t<tr><th scope=row>3</th><td> 20.64</td><td>55.08</td><td>83.16</td><td>11.16</td></tr>\n",
              "\t<tr><th scope=row>4</th><td>181.80</td><td>49.56</td><td>70.20</td><td>22.20</td></tr>\n",
              "\t<tr><th scope=row>5</th><td>216.96</td><td>12.96</td><td>70.08</td><td>15.48</td></tr>\n",
              "\t<tr><th scope=row>6</th><td> 10.44</td><td>58.68</td><td>90.00</td><td> 8.64</td></tr>\n",
              "</tbody>\n",
              "</table>\n"
            ],
            "text/markdown": "\nA data.frame: 6 × 4\n\n| <!--/--> | youtube &lt;dbl&gt; | facebook &lt;dbl&gt; | newspaper &lt;dbl&gt; | sales &lt;dbl&gt; |\n|---|---|---|---|---|\n| 1 | 276.12 | 45.36 | 83.04 | 26.52 |\n| 2 |  53.40 | 47.16 | 54.12 | 12.48 |\n| 3 |  20.64 | 55.08 | 83.16 | 11.16 |\n| 4 | 181.80 | 49.56 | 70.20 | 22.20 |\n| 5 | 216.96 | 12.96 | 70.08 | 15.48 |\n| 6 |  10.44 | 58.68 | 90.00 |  8.64 |\n\n",
            "text/latex": "A data.frame: 6 × 4\n\\begin{tabular}{r|llll}\n  & youtube & facebook & newspaper & sales\\\\\n  & <dbl> & <dbl> & <dbl> & <dbl>\\\\\n\\hline\n\t1 & 276.12 & 45.36 & 83.04 & 26.52\\\\\n\t2 &  53.40 & 47.16 & 54.12 & 12.48\\\\\n\t3 &  20.64 & 55.08 & 83.16 & 11.16\\\\\n\t4 & 181.80 & 49.56 & 70.20 & 22.20\\\\\n\t5 & 216.96 & 12.96 & 70.08 & 15.48\\\\\n\t6 &  10.44 & 58.68 & 90.00 &  8.64\\\\\n\\end{tabular}\n",
            "text/plain": [
              "  youtube facebook newspaper sales\n",
              "1 276.12  45.36    83.04     26.52\n",
              "2  53.40  47.16    54.12     12.48\n",
              "3  20.64  55.08    83.16     11.16\n",
              "4 181.80  49.56    70.20     22.20\n",
              "5 216.96  12.96    70.08     15.48\n",
              "6  10.44  58.68    90.00      8.64"
            ]
          },
          "metadata": {}
        }
      ],
      "source": [
        "library(ggplot2)\n",
        "\n",
        "marketing = read.table(url(\"https://raw.githubusercontent.com/bzaharatos/-Statistical-Modeling-for-Data-Science-Applications/master/Modern%20Regression%20Analysis%20/Datasets/marketing.txt\"), sep = \"\")\n",
        "\n",
        "head(marketing)"
      ]
    },
    {
      "cell_type": "markdown",
      "metadata": {
        "deletable": false,
        "editable": false,
        "nbgrader": {
          "cell_type": "markdown",
          "checksum": "f2a18b1da07212e1fc2602b61d390142",
          "grade": false,
          "grade_id": "cell-56e2bf2e1ced8d6e",
          "locked": true,
          "schema_version": 3,
          "solution": false,
          "task": false
        },
        "id": "sXAxJdoVvM1x"
      },
      "source": [
        "## Exploratory data analysis\n",
        "\n",
        "Before we model the data, let's first explore the data. We'll first check to see whether there are any missing values in the dataset. Then, we'll take a look at some univariate and bivariate summaries of the data.\n",
        "\n",
        "*Note that, in an earlier lesson, we discussed the importance of randomly partitioning the data, and using one subset of the data for exploratory data analysis, another for fitting the model, and then possibly a third for model validation. However, for this dataset, there are only $n = 200$ units in the sample, and so there is not enough data for three robust subsets. So, we'll proceed to perform EDA on the entire dataset, but noting that our conclusions may be less certain because of the possibility of error due to \"double dipping\".*\n",
        "\n",
        "### Missing data and univariate explorations"
      ]
    },
    {
      "cell_type": "markdown",
      "metadata": {
        "deletable": false,
        "editable": false,
        "nbgrader": {
          "cell_type": "markdown",
          "checksum": "55ad85916834a731d9a7b4f476debf67",
          "grade": false,
          "grade_id": "cell-50202e85691bb6dc",
          "locked": true,
          "schema_version": 3,
          "solution": false,
          "task": false
        },
        "id": "KKaA6o2CvM1x"
      },
      "source": [
        "Are there any missing values coded as `NA`? Or, are there any odd values for variables, e.g., `9999` or `0` possibly standing in for a missing value?"
      ]
    },
    {
      "cell_type": "code",
      "execution_count": null,
      "metadata": {
        "deletable": false,
        "nbgrader": {
          "cell_type": "code",
          "checksum": "27588e27c1474294f5845ff3dc740ae6",
          "grade": true,
          "grade_id": "cell-26ed0be07edea25c",
          "locked": false,
          "points": 0,
          "schema_version": 3,
          "solution": true,
          "task": false
        },
        "colab": {
          "base_uri": "https://localhost:8080/",
          "height": 195
        },
        "id": "zfiN4GS0vM1x",
        "outputId": "e84cea66-c86b-476d-8b6b-e164c8eae617"
      },
      "outputs": [
        {
          "output_type": "display_data",
          "data": {
            "text/html": [
              "<style>\n",
              ".list-inline {list-style: none; margin:0; padding: 0}\n",
              ".list-inline>li {display: inline-block}\n",
              ".list-inline>li:not(:last-child)::after {content: \"\\00b7\"; padding: 0 .5ex}\n",
              "</style>\n",
              "<ol class=list-inline><li>200</li><li>4</li></ol>\n"
            ],
            "text/markdown": "1. 200\n2. 4\n\n\n",
            "text/latex": "\\begin{enumerate*}\n\\item 200\n\\item 4\n\\end{enumerate*}\n",
            "text/plain": [
              "[1] 200   4"
            ]
          },
          "metadata": {}
        },
        {
          "output_type": "stream",
          "name": "stdout",
          "text": [
            "There are 0 missing data values."
          ]
        },
        {
          "output_type": "display_data",
          "data": {
            "text/plain": [
              "    youtube          facebook       newspaper          sales      \n",
              " Min.   :  0.84   Min.   : 0.00   Min.   :  0.36   Min.   : 1.92  \n",
              " 1st Qu.: 89.25   1st Qu.:11.97   1st Qu.: 15.30   1st Qu.:12.45  \n",
              " Median :179.70   Median :27.48   Median : 30.90   Median :15.48  \n",
              " Mean   :176.45   Mean   :27.92   Mean   : 36.66   Mean   :16.83  \n",
              " 3rd Qu.:262.59   3rd Qu.:43.83   3rd Qu.: 54.12   3rd Qu.:20.88  \n",
              " Max.   :355.68   Max.   :59.52   Max.   :136.80   Max.   :32.40  "
            ]
          },
          "metadata": {}
        },
        {
          "output_type": "display_data",
          "data": {
            "text/html": [
              "<style>\n",
              ".list-inline {list-style: none; margin:0; padding: 0}\n",
              ".list-inline>li {display: inline-block}\n",
              ".list-inline>li:not(:last-child)::after {content: \"\\00b7\"; padding: 0 .5ex}\n",
              "</style>\n",
              "<ol class=list-inline><li>0</li><li>0.36</li><li>0.48</li><li>0.96</li><li>1.56</li></ol>\n"
            ],
            "text/markdown": "1. 0\n2. 0.36\n3. 0.48\n4. 0.96\n5. 1.56\n\n\n",
            "text/latex": "\\begin{enumerate*}\n\\item 0\n\\item 0.36\n\\item 0.48\n\\item 0.96\n\\item 1.56\n\\end{enumerate*}\n",
            "text/plain": [
              "[1] 0.00 0.36 0.48 0.96 1.56"
            ]
          },
          "metadata": {}
        }
      ],
      "source": [
        "#YOUR CODE HERE\n",
        "#fail() # No Answer - remove if you provide an answer\n",
        "dim(marketing)\n",
        "cat(\"There are\", sum(is.na(marketing)), \"missing data values.\")\n",
        "summary(marketing)\n",
        "\n",
        "marketing$facebook[order(marketing$facebook)[1:5]]"
      ]
    },
    {
      "cell_type": "markdown",
      "metadata": {
        "deletable": false,
        "nbgrader": {
          "cell_type": "markdown",
          "checksum": "321d6b4ae13efaea22969c9756f181c1",
          "grade": true,
          "grade_id": "cell-f7b7c8edf8555b21",
          "locked": false,
          "points": 0,
          "schema_version": 3,
          "solution": true,
          "task": false
        },
        "id": "JO-otvc0vM1y"
      },
      "source": [
        "YOUR ANSWER HERE"
      ]
    },
    {
      "cell_type": "markdown",
      "metadata": {
        "deletable": false,
        "editable": false,
        "nbgrader": {
          "cell_type": "markdown",
          "checksum": "b3269e1616893217f5fa9e1c6feca32f",
          "grade": false,
          "grade_id": "cell-bdba0772b86e2b97",
          "locked": true,
          "schema_version": 3,
          "solution": false,
          "task": false
        },
        "id": "_qiQogWTvM1y"
      },
      "source": [
        "Construct a histogram of each of the variables and comment on their distributions."
      ]
    },
    {
      "cell_type": "code",
      "execution_count": null,
      "metadata": {
        "deletable": false,
        "nbgrader": {
          "cell_type": "code",
          "checksum": "440ce7c0e95805615e50e586b1543d6a",
          "grade": true,
          "grade_id": "cell-1e42b8102bbf65fd",
          "locked": false,
          "points": 0,
          "schema_version": 3,
          "solution": true,
          "task": false
        },
        "colab": {
          "base_uri": "https://localhost:8080/",
          "height": 1000
        },
        "id": "gtGbEtlsvM1y",
        "outputId": "3b843d1b-4ecc-432b-c545-50784db300f6"
      },
      "outputs": [
        {
          "output_type": "display_data",
          "data": {
            "text/plain": [
              "Plot with title “Histogram of marketing$youtube”"
            ],
            "image/png": "[encoded data removed]"
          },
          "metadata": {
            "image/png": {
              "width": 420,
              "height": 420
            }
          }
        },
        {
          "output_type": "display_data",
          "data": {
            "text/plain": [
              "Plot with title “Histogram of marketing$facebook”"
            ],
            "image/png": "[encoded data removed]"
          },
          "metadata": {
            "image/png": {
              "width": 420,
              "height": 420
            }
          }
        },
        {
          "output_type": "display_data",
          "data": {
            "text/plain": [
              "Plot with title “Histogram of marketing$newspaper”"
            ],
            "image/png": "[encoded data removed]"
          },
          "metadata": {
            "image/png": {
              "width": 420,
              "height": 420
            }
          }
        }
      ],
      "source": [
        "#YOUR CODE HERE\n",
        "#fail() # No Answer - remove if you provide an answer\n",
        "#?\n",
        "hist(marketing$youtube)\n",
        "hist(marketing$facebook)\n",
        "hist(marketing$newspaper)"
      ]
    },
    {
      "cell_type": "markdown",
      "metadata": {
        "deletable": false,
        "nbgrader": {
          "cell_type": "markdown",
          "checksum": "ce8d1a6c4636b1e7a8bff8465c9aecf2",
          "grade": true,
          "grade_id": "cell-c2ff1f73797e19d5",
          "locked": false,
          "points": 0,
          "schema_version": 3,
          "solution": true,
          "task": false
        },
        "id": "_Ncqr0oRvM1y"
      },
      "source": [
        "YOUR ANSWER HERE"
      ]
    },
    {
      "cell_type": "markdown",
      "metadata": {
        "deletable": false,
        "editable": false,
        "nbgrader": {
          "cell_type": "markdown",
          "checksum": "b93bddf44e97bf013473d7dba5be1c29",
          "grade": false,
          "grade_id": "cell-7a5a5f088276f757",
          "locked": true,
          "schema_version": 3,
          "solution": false,
          "task": false
        },
        "id": "tC5GO94UvM1y"
      },
      "source": [
        "As you may have noticed from the histogram of `newspaper`, there may be a few outliers. Let's look at some boxplots to see in further detail. Note that R classifies potential outliers by the \"IQR criterion\". This criterion means that all observations above $q_{0.75}+1.5\\times IQR$ or below $q_{0.25}-1.5\\times IQR$ are classified as outliers, where\n",
        "\n",
        "- $q_{0.25}$ is the first quartile;\n",
        "- $q_{0.75}$ is the third quartile.\n",
        "- IQR is the interquartile range, defined as the difference between the third and first quartile.\n",
        "\n",
        "A boxplot will \"flag\" the outliers. Construct a boxplot for each variable and comment on the existence of potential outliers."
      ]
    },
    {
      "cell_type": "code",
      "execution_count": null,
      "metadata": {
        "deletable": false,
        "nbgrader": {
          "cell_type": "code",
          "checksum": "afa4bedb0574c9a26bcaccb1829b669d",
          "grade": true,
          "grade_id": "cell-beea0399f8af91dc",
          "locked": false,
          "points": 0,
          "schema_version": 3,
          "solution": true,
          "task": false
        },
        "id": "KH9PMnc2vM1y"
      },
      "outputs": [],
      "source": [
        "#YOUR CODE HERE\n",
        "fail() # No Answer - remove if you provide an answer"
      ]
    },
    {
      "cell_type": "markdown",
      "metadata": {
        "deletable": false,
        "nbgrader": {
          "cell_type": "markdown",
          "checksum": "70f32fca717ac4987f918121807963bc",
          "grade": true,
          "grade_id": "cell-af8a640ee61b4247",
          "locked": false,
          "points": 0,
          "schema_version": 3,
          "solution": true,
          "task": false
        },
        "id": "dzHBw3-wvM1y"
      },
      "source": [
        "YOUR ANSWER HERE"
      ]
    },
    {
      "cell_type": "markdown",
      "metadata": {
        "deletable": false,
        "editable": false,
        "nbgrader": {
          "cell_type": "markdown",
          "checksum": "5db952d4e0337eef0e1357738784e633",
          "grade": false,
          "grade_id": "cell-f75d22da932c67f4",
          "locked": true,
          "schema_version": 3,
          "solution": false,
          "task": false
        },
        "id": "lZ-ACcItvM1y"
      },
      "source": [
        "### Bivariate explorations\n",
        "Let's now explore how the variables may or may not relate to each other. First, calculate the correlations between variables. Correlations can help us meaasure the strength of the linear relationship between variables. The bland way to do this is with to `cor()` function. But try the `corrplot()` function in the `corrplot` library (which you'll need to install in your R environment in Anaconda). Comment on the correlations."
      ]
    },
    {
      "cell_type": "code",
      "execution_count": null,
      "metadata": {
        "deletable": false,
        "nbgrader": {
          "cell_type": "code",
          "checksum": "adafc0535429be83ef5a526b764c7faa",
          "grade": true,
          "grade_id": "cell-3c9fa8d06cf9ec8c",
          "locked": false,
          "points": 0,
          "schema_version": 3,
          "solution": true,
          "task": false
        },
        "id": "yxFGy-PYvM1y"
      },
      "outputs": [],
      "source": [
        "library(corrplot)\n",
        "#YOUR CODE HERE\n",
        "fail() # No Answer - remove if you provide an answer"
      ]
    },
    {
      "cell_type": "markdown",
      "metadata": {
        "deletable": false,
        "nbgrader": {
          "cell_type": "markdown",
          "checksum": "be25710bc4c784e7951eed8b17aeb04a",
          "grade": true,
          "grade_id": "cell-34c8b032a0894958",
          "locked": false,
          "points": 0,
          "schema_version": 3,
          "solution": true,
          "task": false
        },
        "id": "jmluh4mpvM1y"
      },
      "source": [
        "YOUR ANSWER HERE"
      ]
    },
    {
      "cell_type": "markdown",
      "metadata": {
        "deletable": false,
        "editable": false,
        "nbgrader": {
          "cell_type": "markdown",
          "checksum": "4bacab666c0bc0ce23025be525dd6652",
          "grade": false,
          "grade_id": "cell-4a680f8eb41da578",
          "locked": true,
          "schema_version": 3,
          "solution": false,
          "task": false
        },
        "id": "HFmOwcH-vM1y"
      },
      "source": [
        "However, knowing correlations alone isn't enough; the correlation coefficient can be misleading if there are nonlinear relationships, and so we should explore the relationships further.\n",
        "\n",
        "To do so, we'll look at pairwise scatter plots, i.e., a scatter plot of each variable with each other variable. We should be looking for:\n",
        "\n",
        "- Relationships between the response and each predictor.\n",
        "- Relationships between predictor variables. Such relationships are undesirable.\n",
        "\n",
        "Create all possible pairwise scatter plots of the data (the `pairs()` function may help). Comment on the observed relationships."
      ]
    },
    {
      "cell_type": "code",
      "execution_count": null,
      "metadata": {
        "deletable": false,
        "nbgrader": {
          "cell_type": "code",
          "checksum": "251624f81586c58c6fff85509acda17b",
          "grade": true,
          "grade_id": "cell-a503c08982093d95",
          "locked": false,
          "points": 0,
          "schema_version": 3,
          "solution": true,
          "task": false
        },
        "id": "v3bYlSJPvM1y"
      },
      "outputs": [],
      "source": [
        "#YOUR CODE HERE\n",
        "fail() # No Answer - remove if you provide an answer"
      ]
    },
    {
      "cell_type": "markdown",
      "metadata": {
        "deletable": false,
        "nbgrader": {
          "cell_type": "markdown",
          "checksum": "dea0c318c3386791c158dc222c5c1e41",
          "grade": true,
          "grade_id": "cell-508f4003e6d59c6b",
          "locked": false,
          "points": 0,
          "schema_version": 3,
          "solution": true,
          "task": false
        },
        "id": "Ns_IL_xavM1y"
      },
      "source": [
        "YOUR ANSWER HERE"
      ]
    },
    {
      "cell_type": "markdown",
      "metadata": {
        "deletable": false,
        "editable": false,
        "nbgrader": {
          "cell_type": "markdown",
          "checksum": "6b4f2cb3716d43f8f7673c43eb050b9b",
          "grade": false,
          "grade_id": "cell-78bb235d2d0bc58c",
          "locked": true,
          "schema_version": 3,
          "solution": false,
          "task": false
        },
        "id": "6s02dBCivM1y"
      },
      "source": [
        "## Linear regression modeling\n",
        "\n",
        "First, let's randomly split the data into a \"training set\" and \"testing set\". We do this so that we can train/fit the linear model on the training set, and then, if necessary, see how well the model fits (e.g., does it make reasonable predictions?) in the testing set. In this lesson, we will only briefly look at fit metrics on the testing set; but, it's good practice to split the data in this (or a similar) way when wanting to assess the fit or predictive power of the model.\n",
        "\n",
        "Write code to randomly select $80\\%$ of the rows from the `marketing` dataframe. Store these rows in a dataframe `train`. Then, store the remaining rows in a dataframe called `test`."
      ]
    },
    {
      "cell_type": "code",
      "execution_count": null,
      "metadata": {
        "deletable": false,
        "nbgrader": {
          "cell_type": "code",
          "checksum": "fad1949098161cce3b852b6ea530f4dd",
          "grade": false,
          "grade_id": "cell-1d3406db2748d991",
          "locked": false,
          "schema_version": 3,
          "solution": true,
          "task": false
        },
        "id": "d9YpnFC-vM1y"
      },
      "outputs": [],
      "source": [
        "set.seed(11) #set the random number generator seed.\n",
        "#YOUR CODE HERE\n",
        "fail() # No Answer - remove if you provide an answer"
      ]
    },
    {
      "cell_type": "code",
      "execution_count": null,
      "metadata": {
        "deletable": false,
        "editable": false,
        "nbgrader": {
          "cell_type": "code",
          "checksum": "4bc46e5ef8cbf852a820f0b0d2c9a890",
          "grade": true,
          "grade_id": "cell-c8efb65c77f7343b",
          "locked": true,
          "points": 4,
          "schema_version": 3,
          "solution": false,
          "task": false
        },
        "id": "pBvR31XWvM1z"
      },
      "outputs": [],
      "source": []
    },
    {
      "cell_type": "markdown",
      "metadata": {
        "deletable": false,
        "editable": false,
        "nbgrader": {
          "cell_type": "markdown",
          "checksum": "a64a1c0d0f64f7a638d170cfea97d801",
          "grade": false,
          "grade_id": "cell-13bd375b0dd98afa",
          "locked": true,
          "schema_version": 3,
          "solution": false,
          "task": false
        },
        "id": "QRlLFL30vM1z"
      },
      "source": [
        "### The `lm()` function\n",
        "\n",
        "`R` has a great function for fitting and summarizing linear regression models: the `lm()` function. `lm()` will fit a linear regression model to data using least squares (or other methods, when specified), and provide many summary statistics. Let's look at some basics of `lm()`. As we progress through the course, we'll learn to work with more and more of the output of the `lm()` function.\n",
        "\n",
        "The `lm()` function may take in several arguments, but only a small number of them are required. The first required argument is the `formula`: it should be in the following format: `response ~ predictor1 + predictor2 + ... + predictorP`. If your data are stored in a dataframe (which will often be the case), then the simplest thing to do is specify a second argument, namely `data = NameOfDataFrame`. Let's use `lm()` on the training subset of the marketing data, with just `facebook` as a predictor. **Be sure to use the training data (not the entire marketing data). Store your `lm()` object in the variable `lm_marketing`.**\n",
        "\n",
        "After you've fit the model using `lm()`, clearly write out the fitted model and interpret the parameter estimates."
      ]
    },
    {
      "cell_type": "code",
      "execution_count": null,
      "metadata": {
        "deletable": false,
        "nbgrader": {
          "cell_type": "code",
          "checksum": "5ebbab468f49a6ca4304fe3371edc716",
          "grade": false,
          "grade_id": "cell-16ff7f1238f84e65",
          "locked": false,
          "schema_version": 3,
          "solution": true,
          "task": false
        },
        "id": "gOoFx6zuvM1z"
      },
      "outputs": [],
      "source": [
        "#YOUR CODE HERE\n",
        "fail() # No Answer - remove if you provide an answer"
      ]
    },
    {
      "cell_type": "code",
      "execution_count": null,
      "metadata": {
        "deletable": false,
        "editable": false,
        "nbgrader": {
          "cell_type": "code",
          "checksum": "0f4ff4b5d92876da237bc9c9afad0ed1",
          "grade": true,
          "grade_id": "cell-1970f94d2ab8dba0",
          "locked": true,
          "points": 1,
          "schema_version": 3,
          "solution": false,
          "task": false
        },
        "id": "UjrKno8CvM1z"
      },
      "outputs": [],
      "source": []
    },
    {
      "cell_type": "markdown",
      "metadata": {
        "deletable": false,
        "nbgrader": {
          "cell_type": "markdown",
          "checksum": "d686047c1f511bb1cca25766fecc446a",
          "grade": true,
          "grade_id": "cell-05656d7e6a8ec464",
          "locked": false,
          "points": 2,
          "schema_version": 3,
          "solution": true,
          "task": false
        },
        "id": "86qaA1vGvM1z"
      },
      "source": [
        "YOUR ANSWER HERE"
      ]
    },
    {
      "cell_type": "markdown",
      "metadata": {
        "deletable": false,
        "editable": false,
        "nbgrader": {
          "cell_type": "markdown",
          "checksum": "39d2b4072a187da6b8a13ab1a47b6bfa",
          "grade": false,
          "grade_id": "cell-f5ecbd3e0d4284b7",
          "locked": true,
          "schema_version": 3,
          "solution": false,
          "task": false
        },
        "id": "GTpQdT7avM1z"
      },
      "source": [
        "#### Computing regression quantities \"by hand\"\n",
        "\n",
        "Let's connect the `lm()` function output to the computations that we learned about in class. First, let's construct the \"design matrix\", $X$, i.e., the matrix with a column of `1's`, and then columns for each predictor."
      ]
    },
    {
      "cell_type": "code",
      "execution_count": null,
      "metadata": {
        "deletable": false,
        "editable": false,
        "nbgrader": {
          "cell_type": "code",
          "checksum": "be6c08bf470fc6815e667febcb1d81f2",
          "grade": false,
          "grade_id": "cell-7d90ffe769713359",
          "locked": true,
          "schema_version": 3,
          "solution": false,
          "task": false
        },
        "id": "MbJiEebdvM1z"
      },
      "outputs": [],
      "source": [
        "X = cbind(1, train$facebook)\n",
        "\n",
        "#another way to do this:\n",
        "#X1 = model.matrix(lm_marketing)\n",
        "#sum(X-X1)"
      ]
    },
    {
      "cell_type": "markdown",
      "metadata": {
        "deletable": false,
        "editable": false,
        "nbgrader": {
          "cell_type": "markdown",
          "checksum": "bfba1e112d30386886f9047ad430e7be",
          "grade": false,
          "grade_id": "cell-734c59336f23259a",
          "locked": true,
          "schema_version": 3,
          "solution": false,
          "task": false
        },
        "id": "8fPaqiCbvM1z"
      },
      "source": [
        "Recall that the least squares solution is: $\\boldsymbol{\\widehat\\beta} = \\left(X^TX \\right)^{-1}X^T\\mathbf{y}$. To compute this \"by hand\" in `R`, we'll need the transpose function, `t()`, the operator for matrix multiplication, `%*%`, and the function for finding the inverse of a matrix, `solve()`. Use these functions to compute the least squares solution without using the `lm()` function. Store your result in the variable `b`, which should end up being a column vector. *Be sure to use the training set for this answer. `b` should match the estimate column from `lm()`.*\n",
        "\n",
        "(Imoprtantly, this is *not* how `lm()` in `R` (or other software packates, like `Python`) actually computes the least squares estimates. Instead, they use methods that are less computationally expensive. We are computing the least squares estimates in this way to show that the theory from class matches the values from `R`. The theory will be important for our understanding and interpretation of linear regression.)"
      ]
    },
    {
      "cell_type": "code",
      "execution_count": null,
      "metadata": {
        "deletable": false,
        "nbgrader": {
          "cell_type": "code",
          "checksum": "303d040d5492392ef6d74d2ec9b28d56",
          "grade": false,
          "grade_id": "cell-2f7f22c2a9359bad",
          "locked": false,
          "schema_version": 3,
          "solution": true,
          "task": false
        },
        "id": "okwi47r-vM1z"
      },
      "outputs": [],
      "source": [
        "#YOUR CODE HERE\n",
        "fail() # No Answer - remove if you provide an answer"
      ]
    },
    {
      "cell_type": "code",
      "execution_count": null,
      "metadata": {
        "deletable": false,
        "editable": false,
        "nbgrader": {
          "cell_type": "code",
          "checksum": "23d8fb614ef7c3bf1cd1a568104bf270",
          "grade": true,
          "grade_id": "cell-a9fab62e1a732b90",
          "locked": true,
          "points": 1,
          "schema_version": 3,
          "solution": false,
          "task": false
        },
        "id": "E5jT6IQ1vM1z"
      },
      "outputs": [],
      "source": []
    },
    {
      "cell_type": "markdown",
      "metadata": {
        "deletable": false,
        "editable": false,
        "nbgrader": {
          "cell_type": "markdown",
          "checksum": "6e144f6ecd4e85ed373f6865fce06801",
          "grade": false,
          "grade_id": "cell-480836cd90cb72ad",
          "locked": true,
          "schema_version": 3,
          "solution": false,
          "task": false
        },
        "id": "RkcP8iAMvM1z"
      },
      "source": [
        "Now compute the fitted values and residuals of the model. Store them in the variables `yhat` and `r`, respectively."
      ]
    },
    {
      "cell_type": "code",
      "execution_count": null,
      "metadata": {
        "deletable": false,
        "nbgrader": {
          "cell_type": "code",
          "checksum": "ef62853f8684aa29ff56a9cb08982d8e",
          "grade": false,
          "grade_id": "cell-ba7dc4e53d25cf66",
          "locked": false,
          "schema_version": 3,
          "solution": true,
          "task": false
        },
        "id": "5Goa6GtpvM1z"
      },
      "outputs": [],
      "source": [
        "#YOUR CODE HERE\n",
        "fail() # No Answer - remove if you provide an answer"
      ]
    },
    {
      "cell_type": "code",
      "execution_count": null,
      "metadata": {
        "deletable": false,
        "editable": false,
        "nbgrader": {
          "cell_type": "code",
          "checksum": "62984ceba5f91b0097fdad8468b8a477",
          "grade": true,
          "grade_id": "cell-d08022d8e50d282a",
          "locked": true,
          "points": 2,
          "schema_version": 3,
          "solution": false,
          "task": false
        },
        "id": "y68MT8-evM1z"
      },
      "outputs": [],
      "source": []
    },
    {
      "cell_type": "markdown",
      "metadata": {
        "deletable": false,
        "editable": false,
        "nbgrader": {
          "cell_type": "markdown",
          "checksum": "17eabf966ff33fec7c3d29b3282e5b13",
          "grade": false,
          "grade_id": "cell-0dffe5449165457f",
          "locked": true,
          "schema_version": 3,
          "solution": false,
          "task": false
        },
        "id": "imnMTd4HvM1z"
      },
      "source": [
        "## Visualizing the regression model\n",
        "\n",
        "We will learn a few important visualizations of the linear regression model in the modules to come. For now, let's just visualize our data with the regression model imposed on it.\n",
        "\n",
        "Construct a scatter plot of `sales` ($y$) against `facebook` ($x$) *from the training data*, and plot the fitted line over the data. You can use \"base R\" functions like `plot()` and `abline()`, or be fancy and use `ggplot()`!\n"
      ]
    },
    {
      "cell_type": "code",
      "execution_count": null,
      "metadata": {
        "deletable": false,
        "nbgrader": {
          "cell_type": "code",
          "checksum": "7d0db068f5f4aed93574cb389fef3e76",
          "grade": true,
          "grade_id": "cell-a96d47e3364de0a3",
          "locked": false,
          "points": 0,
          "schema_version": 3,
          "solution": true,
          "task": false
        },
        "id": "W41BbOiovM1z"
      },
      "outputs": [],
      "source": [
        "#YOUR CODE HERE\n",
        "fail() # No Answer - remove if you provide an answer"
      ]
    },
    {
      "cell_type": "markdown",
      "metadata": {
        "deletable": false,
        "editable": false,
        "nbgrader": {
          "cell_type": "markdown",
          "checksum": "482b7d8827cbc26ae8012c76c14b0c64",
          "grade": false,
          "grade_id": "cell-08e6a036571e07c8",
          "locked": true,
          "schema_version": 3,
          "solution": false,
          "task": false
        },
        "id": "bq0BHYggvM1z"
      },
      "source": [
        "Note that the fit looks OK, but that there is a lot of variability in `sales`, especially for higher values of `facebook`. Imagine making a prediction for `sales` for `facebook = 60`:"
      ]
    },
    {
      "cell_type": "code",
      "execution_count": null,
      "metadata": {
        "deletable": false,
        "editable": false,
        "nbgrader": {
          "cell_type": "code",
          "checksum": "42201e940ad9582ff863f3e74eb1ee8f",
          "grade": false,
          "grade_id": "cell-3162ba23289064ea",
          "locked": true,
          "schema_version": 3,
          "solution": false,
          "task": false
        },
        "id": "iHsnIwupvM1z"
      },
      "outputs": [],
      "source": [
        "yhat_60 = as.numeric(round(coef(lm_marketing)[1] + coef(lm_marketing)[2]*60, 2))"
      ]
    },
    {
      "cell_type": "markdown",
      "metadata": {
        "deletable": false,
        "editable": false,
        "nbgrader": {
          "cell_type": "markdown",
          "checksum": "bdc77adb91e73f9cb3329e6148ff6762",
          "grade": false,
          "grade_id": "cell-9d0269dca38eaa66",
          "locked": true,
          "schema_version": 3,
          "solution": false,
          "task": false
        },
        "id": "pWXBO_T3vM1z"
      },
      "source": [
        "The model predicts `sales = 22.9`: that is, the model predicts that a company with a facebook marketing budget of $\\$60,000$ will sell $22,900$ units of product $P$, on average. But look at other measurements near $\\$60,000$; based on the data, sales could be as low as $9,000$ units or over $30,000$ units."
      ]
    },
    {
      "cell_type": "markdown",
      "metadata": {
        "deletable": false,
        "editable": false,
        "nbgrader": {
          "cell_type": "markdown",
          "checksum": "ff0347d9788c2dfd38a9762278c117bb",
          "grade": false,
          "grade_id": "cell-b5a7e2f1ff1f41e8",
          "locked": true,
          "schema_version": 3,
          "solution": false,
          "task": false
        },
        "id": "dP3SdHY0vM10"
      },
      "source": [
        "Finally, let's take a look at how the plot would look using the testing data instead of the training data. Ideally, we would want the the model to fit well for the testing data too.\n",
        "\n",
        "Construct a scatter plot of `sales` ($y$) against `facebook` ($x$) *from the test data* and plot the fitted line over the data. You can use \"base R\" functions like `plot()` and `abline()`, or be fancy and use `ggplot()`!\n",
        "\n",
        "Note that overlaying the regression line on a scatterplot of the data is not a rigorous way of assessing the fit of the model; later on in the course, we will learn better goodness of fit metrics for linear regression."
      ]
    },
    {
      "cell_type": "code",
      "execution_count": null,
      "metadata": {
        "deletable": false,
        "nbgrader": {
          "cell_type": "code",
          "checksum": "98baef11509cfae4310856b9a20c3182",
          "grade": true,
          "grade_id": "cell-c669140ad313cc34",
          "locked": false,
          "points": 0,
          "schema_version": 3,
          "solution": true,
          "task": false
        },
        "id": "8kinRh7lvM10"
      },
      "outputs": [],
      "source": [
        "#YOUR CODE HERE\n",
        "fail() # No Answer - remove if you provide an answer"
      ]
    },
    {
      "cell_type": "code",
      "execution_count": null,
      "metadata": {
        "id": "alV7eetLvM10"
      },
      "outputs": [],
      "source": []
    }
  ],
  "metadata": {
    "kernelspec": {
      "display_name": "R",
      "language": "R",
      "name": "ir"
    },
    "language_info": {
      "codemirror_mode": "r",
      "file_extension": ".r",
      "mimetype": "text/x-r-source",
      "name": "R",
      "pygments_lexer": "r",
      "version": "3.6.1"
    },
    "colab": {
      "provenance": []
    }
  },
  "nbformat": 4,
  "nbformat_minor": 0
}